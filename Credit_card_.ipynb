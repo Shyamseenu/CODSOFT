{
  "nbformat": 4,
  "nbformat_minor": 0,
  "metadata": {
    "colab": {
      "provenance": [],
      "authorship_tag": "ABX9TyPfLAiRoRH735Pazw1e2Uhe",
      "include_colab_link": true
    },
    "kernelspec": {
      "name": "python3",
      "display_name": "Python 3"
    },
    "language_info": {
      "name": "python"
    }
  },
  "cells": [
    {
      "cell_type": "markdown",
      "metadata": {
        "id": "view-in-github",
        "colab_type": "text"
      },
      "source": [
        "<a href=\"https://colab.research.google.com/github/Shyamseenu/CODSOFT/blob/main/Credit_card_.ipynb\" target=\"_parent\"><img src=\"https://colab.research.google.com/assets/colab-badge.svg\" alt=\"Open In Colab\"/></a>"
      ]
    },
    {
      "cell_type": "code",
      "execution_count": null,
      "metadata": {
        "colab": {
          "base_uri": "https://localhost:8080/"
        },
        "id": "e7h0cE2qI0_z",
        "outputId": "ac9910ac-9503-4062-9aa8-6060e9d883ea"
      },
      "outputs": [
        {
          "output_type": "stream",
          "name": "stdout",
          "text": [
            "<class 'pandas.core.frame.DataFrame'>\n",
            "RangeIndex: 47628 entries, 0 to 47627\n",
            "Data columns (total 31 columns):\n",
            " #   Column  Non-Null Count  Dtype  \n",
            "---  ------  --------------  -----  \n",
            " 0   Time    47628 non-null  int64  \n",
            " 1   V1      47628 non-null  float64\n",
            " 2   V2      47628 non-null  float64\n",
            " 3   V3      47628 non-null  float64\n",
            " 4   V4      47628 non-null  float64\n",
            " 5   V5      47628 non-null  float64\n",
            " 6   V6      47628 non-null  float64\n",
            " 7   V7      47628 non-null  float64\n",
            " 8   V8      47628 non-null  float64\n",
            " 9   V9      47628 non-null  float64\n",
            " 10  V10     47628 non-null  float64\n",
            " 11  V11     47628 non-null  float64\n",
            " 12  V12     47628 non-null  float64\n",
            " 13  V13     47628 non-null  float64\n",
            " 14  V14     47628 non-null  float64\n",
            " 15  V15     47628 non-null  float64\n",
            " 16  V16     47628 non-null  float64\n",
            " 17  V17     47627 non-null  float64\n",
            " 18  V18     47627 non-null  float64\n",
            " 19  V19     47627 non-null  float64\n",
            " 20  V20     47627 non-null  float64\n",
            " 21  V21     47627 non-null  float64\n",
            " 22  V22     47627 non-null  float64\n",
            " 23  V23     47627 non-null  float64\n",
            " 24  V24     47627 non-null  float64\n",
            " 25  V25     47627 non-null  float64\n",
            " 26  V26     47627 non-null  float64\n",
            " 27  V27     47627 non-null  float64\n",
            " 28  V28     47627 non-null  float64\n",
            " 29  Amount  47627 non-null  float64\n",
            " 30  Class   47627 non-null  float64\n",
            "dtypes: float64(30), int64(1)\n",
            "memory usage: 11.3 MB\n",
            "None\n"
          ]
        }
      ],
      "source": [
        "# Import necessary libraries\n",
        "import pandas as pd\n",
        "import numpy as np\n",
        "from sklearn.model_selection import train_test_split\n",
        "from sklearn.preprocessing import StandardScaler\n",
        "from sklearn.ensemble import IsolationForest\n",
        "from sklearn.metrics import classification_report, accuracy_score\n",
        "\n",
        "# Load the Credit Card Fraud dataset (adjust the path accordingly)\n",
        "df = pd.read_csv('/content/creditcard.csv')\n",
        "\n",
        "# Display basic information about the dataset\n",
        "print(df.info())\n",
        "\n",
        "# Feature scaling for 'Amount' and 'Time'\n",
        "scaler = StandardScaler()\n",
        "df['Amount'] = scaler.fit_transform(df['Amount'].values.reshape(-1, 1))\n",
        "df['Time'] = scaler.fit_transform(df['Time'].values.reshape(-1, 1))\n",
        "\n",
        "# Split the data into features (X) and target variable (y)\n",
        "X = df.drop(['Class'], axis=1)\n",
        "y = df['Class']\n",
        "\n",
        "# Split the data into training and testing sets\n",
        "X_train, X_test, y_train, y_test = train_test_split(X, y, test_size=0.2, random_state=42)\n",
        "\n",
        "# Initialize the Isolation Forest model\n",
        "model = IsolationForest(contamination=0.01, random_state=42)\n"
      ]
    },
    {
      "cell_type": "code",
      "source": [
        "from sklearn.impute import SimpleImputer\n",
        "\n",
        "imputer = SimpleImputer(strategy=\"median\")\n",
        "df = pd.DataFrame(imputer.fit_transform(df), columns=df.columns)\n",
        "df.isnull().sum()\n",
        "\n",
        "from sklearn.linear_model import LinearRegression\n",
        "\n",
        "# Instantiate the model\n",
        "model = LinearRegression()\n",
        "\n",
        "# Check the shapes of X_train and y_train\n",
        "print(\"X_train shape:\", X_train.shape)\n",
        "print(\"y_train shape:\", y_train.shape)\n",
        "\n",
        "# Check for missing values\n",
        "print(\"Missing values in X_train:\", X_train.isnull().sum())\n",
        "\n",
        "# If missing values are found, impute them\n",
        "# Example: X_train.fillna(X_train.mean(), inplace=True)\n",
        "\n",
        "# Ensure y_train is provided if using supervised learning\n",
        "# model.fit(X_train, y_train)\n"
      ],
      "metadata": {
        "colab": {
          "base_uri": "https://localhost:8080/"
        },
        "id": "i0B42gJfJIww",
        "outputId": "5cdd6b71-5764-42ed-8528-9744fb21c696"
      },
      "execution_count": null,
      "outputs": [
        {
          "output_type": "stream",
          "name": "stdout",
          "text": [
            "X_train shape: (38102, 30)\n",
            "y_train shape: (38102,)\n",
            "Missing values in X_train: Time      0\n",
            "V1        0\n",
            "V2        0\n",
            "V3        0\n",
            "V4        0\n",
            "V5        0\n",
            "V6        0\n",
            "V7        0\n",
            "V8        0\n",
            "V9        0\n",
            "V10       0\n",
            "V11       0\n",
            "V12       0\n",
            "V13       0\n",
            "V14       0\n",
            "V15       0\n",
            "V16       0\n",
            "V17       1\n",
            "V18       1\n",
            "V19       1\n",
            "V20       1\n",
            "V21       1\n",
            "V22       1\n",
            "V23       1\n",
            "V24       1\n",
            "V25       1\n",
            "V26       1\n",
            "V27       1\n",
            "V28       1\n",
            "Amount    1\n",
            "dtype: int64\n"
          ]
        }
      ]
    },
    {
      "cell_type": "code",
      "source": [
        "# Convert predictions (-1 for fraud, 1 for non-fraud) to binary labels\n",
        "y_pred = np.array([-1, 1, -1, 1, 1])\n",
        "y_pred_binary = [1 if x == 1 else 0 for x in y_pred]\n"
      ],
      "metadata": {
        "id": "8e7xAKZ_Mmb8"
      },
      "execution_count": null,
      "outputs": []
    },
    {
      "cell_type": "code",
      "source": [
        "from sklearn.metrics import classification_report, accuracy_score\n",
        "\n",
        "# Assuming y_pred_binary and y_test are already defined\n",
        "# Evaluate the model\n",
        "print(\"First 5 elements of y_test:\", y_test[:5])\n",
        "print(\"First 5 elements of y_pred:\", y_pred[:5])"
      ],
      "metadata": {
        "colab": {
          "base_uri": "https://localhost:8080/"
        },
        "id": "RwyH1mYvJI2O",
        "outputId": "34f3c304-1a87-46a1-8e00-0246feae87e1"
      },
      "execution_count": null,
      "outputs": [
        {
          "output_type": "stream",
          "name": "stdout",
          "text": [
            "First 5 elements of y_test: 42235    0.0\n",
            "11710    1.0\n",
            "41072    0.0\n",
            "43098    0.0\n",
            "43831    0.0\n",
            "Name: Class, dtype: float64\n",
            "First 5 elements of y_pred: [-1  1 -1  1  1]\n"
          ]
        }
      ]
    }
  ]
}